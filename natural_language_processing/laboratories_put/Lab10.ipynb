{
  "cells": [
    {
      "cell_type": "markdown",
      "metadata": {
        "id": "OcjJ-YZy5-Pl"
      },
      "source": [
        "# Wykrywanie encji nazwanych z Flair\n",
        "\n",
        "To już ostatnie laboratoria zadaniowe, w związku z tym, jeśli znajdziecie chwilę wolnego czasu, wypełnijcie proszę ankietę: https://docs.google.com/forms/d/1rHPjpL70XdXRD-ILl3AHophPNUk0AhsFus1-mtkUPsI\n",
        "\n",
        "Pozwoli to mi poprawić laboratoria w przyszłości, z góry dziękuję :)\n",
        "\n",
        "# Flair\n",
        "\n",
        "Biblioteka Flair to bardzo popularne narzędzie do tagowania sekwencji. Zaintstalujmy ją"
      ]
    },
    {
      "cell_type": "code",
      "execution_count": 21,
      "metadata": {
        "id": "4inJhzI0wQmM"
      },
      "outputs": [
        {
          "name": "stdout",
          "output_type": "stream",
          "text": [
            "Requirement already satisfied: flair in /home/anna/miniconda3/envs/jup_ml/lib/python3.9/site-packages (0.11.3)\n",
            "Requirement already satisfied: mpld3==0.3 in /home/anna/miniconda3/envs/jup_ml/lib/python3.9/site-packages (from flair) (0.3)\n",
            "Requirement already satisfied: scikit-learn>=0.21.3 in /home/anna/miniconda3/envs/jup_ml/lib/python3.9/site-packages (from flair) (1.0)\n",
            "Requirement already satisfied: gdown==4.4.0 in /home/anna/miniconda3/envs/jup_ml/lib/python3.9/site-packages (from flair) (4.4.0)\n",
            "Requirement already satisfied: matplotlib>=2.2.3 in /home/anna/miniconda3/envs/jup_ml/lib/python3.9/site-packages (from flair) (3.3.4)\n",
            "Requirement already satisfied: segtok>=1.5.7 in /home/anna/miniconda3/envs/jup_ml/lib/python3.9/site-packages (from flair) (1.5.11)\n",
            "Requirement already satisfied: regex in /home/anna/miniconda3/envs/jup_ml/lib/python3.9/site-packages (from flair) (2021.11.2)\n",
            "Requirement already satisfied: janome in /home/anna/miniconda3/envs/jup_ml/lib/python3.9/site-packages (from flair) (0.4.2)\n",
            "Requirement already satisfied: more-itertools in /home/anna/miniconda3/envs/jup_ml/lib/python3.9/site-packages (from flair) (8.13.0)\n",
            "Requirement already satisfied: pptree in /home/anna/miniconda3/envs/jup_ml/lib/python3.9/site-packages (from flair) (3.1)\n",
            "Requirement already satisfied: sqlitedict>=1.6.0 in /home/anna/miniconda3/envs/jup_ml/lib/python3.9/site-packages (from flair) (2.0.0)\n",
            "Requirement already satisfied: gensim>=3.4.0 in /home/anna/miniconda3/envs/jup_ml/lib/python3.9/site-packages (from flair) (4.2.0)\n",
            "Requirement already satisfied: lxml in /home/anna/miniconda3/envs/jup_ml/lib/python3.9/site-packages (from flair) (4.6.3)\n",
            "Requirement already satisfied: wikipedia-api in /home/anna/miniconda3/envs/jup_ml/lib/python3.9/site-packages (from flair) (0.5.4)\n",
            "Requirement already satisfied: bpemb>=0.3.2 in /home/anna/miniconda3/envs/jup_ml/lib/python3.9/site-packages (from flair) (0.3.3)\n",
            "Requirement already satisfied: tqdm>=4.26.0 in /home/anna/miniconda3/envs/jup_ml/lib/python3.9/site-packages (from flair) (4.61.0)\n",
            "Requirement already satisfied: hyperopt>=0.2.7 in /home/anna/miniconda3/envs/jup_ml/lib/python3.9/site-packages (from flair) (0.2.7)\n",
            "Requirement already satisfied: huggingface-hub in /home/anna/miniconda3/envs/jup_ml/lib/python3.9/site-packages (from flair) (0.6.0)\n",
            "Requirement already satisfied: conllu>=4.0 in /home/anna/miniconda3/envs/jup_ml/lib/python3.9/site-packages (from flair) (4.4.2)\n",
            "Requirement already satisfied: torch!=1.8,>=1.5.0 in /home/anna/miniconda3/envs/jup_ml/lib/python3.9/site-packages (from flair) (1.10.1)\n",
            "Requirement already satisfied: langdetect in /home/anna/miniconda3/envs/jup_ml/lib/python3.9/site-packages (from flair) (1.0.9)\n",
            "Requirement already satisfied: python-dateutil>=2.6.1 in /home/anna/miniconda3/envs/jup_ml/lib/python3.9/site-packages (from flair) (2.8.1)\n",
            "Requirement already satisfied: deprecated>=1.2.4 in /home/anna/miniconda3/envs/jup_ml/lib/python3.9/site-packages (from flair) (1.2.13)\n",
            "Requirement already satisfied: transformers>=4.0.0 in /home/anna/miniconda3/envs/jup_ml/lib/python3.9/site-packages (from flair) (4.19.2)\n",
            "Requirement already satisfied: konoha<5.0.0,>=4.0.0 in /home/anna/miniconda3/envs/jup_ml/lib/python3.9/site-packages (from flair) (4.6.5)\n",
            "Requirement already satisfied: sentencepiece==0.1.95 in /home/anna/miniconda3/envs/jup_ml/lib/python3.9/site-packages (from flair) (0.1.95)\n",
            "Requirement already satisfied: tabulate in /home/anna/miniconda3/envs/jup_ml/lib/python3.9/site-packages (from flair) (0.8.9)\n",
            "Requirement already satisfied: ftfy in /home/anna/miniconda3/envs/jup_ml/lib/python3.9/site-packages (from flair) (6.1.1)\n",
            "Requirement already satisfied: requests[socks] in /home/anna/miniconda3/envs/jup_ml/lib/python3.9/site-packages (from gdown==4.4.0->flair) (2.27.1)\n",
            "Requirement already satisfied: six in /home/anna/miniconda3/envs/jup_ml/lib/python3.9/site-packages (from gdown==4.4.0->flair) (1.15.0)\n",
            "Requirement already satisfied: beautifulsoup4 in /home/anna/miniconda3/envs/jup_ml/lib/python3.9/site-packages (from gdown==4.4.0->flair) (4.11.1)\n",
            "Requirement already satisfied: filelock in /home/anna/miniconda3/envs/jup_ml/lib/python3.9/site-packages (from gdown==4.4.0->flair) (3.7.0)\n",
            "Requirement already satisfied: numpy in /home/anna/miniconda3/envs/jup_ml/lib/python3.9/site-packages (from bpemb>=0.3.2->flair) (1.20.1)\n",
            "Requirement already satisfied: wrapt<2,>=1.10 in /home/anna/miniconda3/envs/jup_ml/lib/python3.9/site-packages (from deprecated>=1.2.4->flair) (1.13.3)\n",
            "Requirement already satisfied: scipy>=0.18.1 in /home/anna/miniconda3/envs/jup_ml/lib/python3.9/site-packages (from gensim>=3.4.0->flair) (1.6.2)\n",
            "Requirement already satisfied: smart-open>=1.8.1 in /home/anna/miniconda3/envs/jup_ml/lib/python3.9/site-packages (from gensim>=3.4.0->flair) (6.0.0)\n",
            "Requirement already satisfied: py4j in /home/anna/miniconda3/envs/jup_ml/lib/python3.9/site-packages (from hyperopt>=0.2.7->flair) (0.10.9.5)\n",
            "Requirement already satisfied: networkx>=2.2 in /home/anna/miniconda3/envs/jup_ml/lib/python3.9/site-packages (from hyperopt>=0.2.7->flair) (2.6.3)\n",
            "Requirement already satisfied: future in /home/anna/miniconda3/envs/jup_ml/lib/python3.9/site-packages (from hyperopt>=0.2.7->flair) (0.18.2)\n",
            "Requirement already satisfied: cloudpickle in /home/anna/miniconda3/envs/jup_ml/lib/python3.9/site-packages (from hyperopt>=0.2.7->flair) (1.6.0)\n",
            "Requirement already satisfied: importlib-metadata<4.0.0,>=3.7.0 in /home/anna/miniconda3/envs/jup_ml/lib/python3.9/site-packages (from konoha<5.0.0,>=4.0.0->flair) (3.10.0)\n",
            "Requirement already satisfied: overrides<4.0.0,>=3.0.0 in /home/anna/miniconda3/envs/jup_ml/lib/python3.9/site-packages (from konoha<5.0.0,>=4.0.0->flair) (3.1.0)\n",
            "Requirement already satisfied: zipp>=0.5 in /home/anna/miniconda3/envs/jup_ml/lib/python3.9/site-packages (from importlib-metadata<4.0.0,>=3.7.0->konoha<5.0.0,>=4.0.0->flair) (3.4.1)\n",
            "Requirement already satisfied: pyparsing!=2.0.4,!=2.1.2,!=2.1.6,>=2.0.3 in /home/anna/miniconda3/envs/jup_ml/lib/python3.9/site-packages (from matplotlib>=2.2.3->flair) (2.4.7)\n",
            "Requirement already satisfied: pillow>=6.2.0 in /home/anna/miniconda3/envs/jup_ml/lib/python3.9/site-packages (from matplotlib>=2.2.3->flair) (8.2.0)\n",
            "Requirement already satisfied: kiwisolver>=1.0.1 in /home/anna/miniconda3/envs/jup_ml/lib/python3.9/site-packages (from matplotlib>=2.2.3->flair) (1.3.1)\n",
            "Requirement already satisfied: cycler>=0.10 in /home/anna/miniconda3/envs/jup_ml/lib/python3.9/site-packages (from matplotlib>=2.2.3->flair) (0.10.0)\n",
            "Requirement already satisfied: certifi>=2017.4.17 in /home/anna/miniconda3/envs/jup_ml/lib/python3.9/site-packages (from requests[socks]->gdown==4.4.0->flair) (2021.10.8)\n",
            "Requirement already satisfied: urllib3<1.27,>=1.21.1 in /home/anna/miniconda3/envs/jup_ml/lib/python3.9/site-packages (from requests[socks]->gdown==4.4.0->flair) (1.26.8)\n",
            "Requirement already satisfied: idna<4,>=2.5 in /home/anna/miniconda3/envs/jup_ml/lib/python3.9/site-packages (from requests[socks]->gdown==4.4.0->flair) (3.3)\n",
            "Requirement already satisfied: charset-normalizer~=2.0.0 in /home/anna/miniconda3/envs/jup_ml/lib/python3.9/site-packages (from requests[socks]->gdown==4.4.0->flair) (2.0.7)\n",
            "Requirement already satisfied: joblib>=0.11 in /home/anna/miniconda3/envs/jup_ml/lib/python3.9/site-packages (from scikit-learn>=0.21.3->flair) (1.0.1)\n",
            "Requirement already satisfied: threadpoolctl>=2.0.0 in /home/anna/miniconda3/envs/jup_ml/lib/python3.9/site-packages (from scikit-learn>=0.21.3->flair) (3.0.0)\n",
            "Requirement already satisfied: typing-extensions in /home/anna/miniconda3/envs/jup_ml/lib/python3.9/site-packages (from torch!=1.8,>=1.5.0->flair) (3.10.0.0)\n",
            "Requirement already satisfied: tokenizers!=0.11.3,<0.13,>=0.11.1 in /home/anna/miniconda3/envs/jup_ml/lib/python3.9/site-packages (from transformers>=4.0.0->flair) (0.12.1)\n",
            "Requirement already satisfied: packaging>=20.0 in /home/anna/miniconda3/envs/jup_ml/lib/python3.9/site-packages (from transformers>=4.0.0->flair) (20.9)\n",
            "Requirement already satisfied: pyyaml>=5.1 in /home/anna/miniconda3/envs/jup_ml/lib/python3.9/site-packages (from transformers>=4.0.0->flair) (5.4.1)\n",
            "Requirement already satisfied: soupsieve>1.2 in /home/anna/miniconda3/envs/jup_ml/lib/python3.9/site-packages (from beautifulsoup4->gdown==4.4.0->flair) (2.3.2.post1)\n",
            "Requirement already satisfied: wcwidth>=0.2.5 in /home/anna/miniconda3/envs/jup_ml/lib/python3.9/site-packages (from ftfy->flair) (0.2.5)\n",
            "Requirement already satisfied: PySocks!=1.5.7,>=1.5.6 in /home/anna/miniconda3/envs/jup_ml/lib/python3.9/site-packages (from requests[socks]->gdown==4.4.0->flair) (1.7.1)\n"
          ]
        }
      ],
      "source": [
        "!pip install flair"
      ]
    },
    {
      "cell_type": "code",
      "execution_count": 22,
      "metadata": {
        "id": "0-maEaJD0Ojj"
      },
      "outputs": [],
      "source": [
        "# OPCJONALNE WSPARCIE DLA KART GRAFICZNYCH\n",
        "# W colabie możemy trenować z wykorzystaniem karty graficznej, dzięki temu trening działa dużo szybciej\n",
        "# Aby włączyć wsparcie dla karty graficznej musimy:\n",
        "# 1. w menu 'srodowisko wykonawcze' wybrać `zmien typ srodowiska wykonawczego` i tam `akcelerator sprzętowy` = GPU\n",
        "# 2. odkomentować linijki poniżej\n",
        "import flair, torch\n",
        "flair.device = torch.device('cuda:0') "
      ]
    },
    {
      "cell_type": "markdown",
      "metadata": {
        "id": "AyApRy6G7YQk"
      },
      "source": [
        "# Ładowanie zbioru danych i słownika z etykietami.\n",
        "\n",
        "**Zadanie1: (1 punkt):** Stwórz słownik etykiet z wczytanego korpusu korzystając z funkcji `make_label_dictionary()`. W naszym zbiorze, etykiety do wykrycia występują w kolumnie `ner`, której identyfikator został zapisany w linijce 6. Tutorial: https://github.com/flairNLP/flair/blob/master/resources/docs/TUTORIAL_6_CORPUS.md może okazać się pomocny.\n",
        "\n",
        "Efektem działania powinna być lista etykiet np: \n",
        "`Dictionary with 20 tags: <unk>, Variable, Class, Application, User_Interface_Element, Code_Block, Language, Function, Data_Structure, Library, Data_Type, File_Type, File_Name, Version, HTML_XML_Tag, Device, Operating_System, Website, User_Name, Algorithm`"
      ]
    },
    {
      "cell_type": "code",
      "execution_count": 23,
      "metadata": {
        "id": "eK84adKF6GLr"
      },
      "outputs": [
        {
          "name": "stdout",
          "output_type": "stream",
          "text": [
            "2022-06-06 12:23:03,478 File train has 741 questions and 897 answers.\n",
            "2022-06-06 12:23:03,501 File test has 249 questions and 315 answers.\n",
            "2022-06-06 12:23:03,523 File dev has 247 questions and 289 answers.\n",
            "2022-06-06 12:23:03,524 Reading data from /home/anna/.flair/datasets/ner_english_stackoverflow\n",
            "2022-06-06 12:23:03,525 Train: /home/anna/.flair/datasets/ner_english_stackoverflow/train.txt\n",
            "2022-06-06 12:23:03,526 Dev: /home/anna/.flair/datasets/ner_english_stackoverflow/dev.txt\n",
            "2022-06-06 12:23:03,527 Test: /home/anna/.flair/datasets/ner_english_stackoverflow/test.txt\n",
            "2022-06-06 12:23:10,835 Filtering empty sentences\n",
            "2022-06-06 12:23:10,903 Corpus: 2779 train + 881 dev + 932 test sentences\n",
            "2022-06-06 12:23:10,904 Computing label dictionary. Progress:\n"
          ]
        },
        {
          "name": "stderr",
          "output_type": "stream",
          "text": [
            "2779it [00:00, 41626.24it/s]"
          ]
        },
        {
          "name": "stdout",
          "output_type": "stream",
          "text": [
            "2022-06-06 12:23:10,974 Dictionary created for label 'ner' with 21 values: Application (seen 390 times), Class (seen 374 times), Variable (seen 326 times), User_Interface_Element (seen 290 times), Code_Block (seen 234 times), Function (seen 222 times), Language (seen 216 times), Library (seen 210 times), Data_Structure (seen 189 times), Data_Type (seen 121 times), File_Type (seen 112 times), File_Name (seen 94 times), Version (seen 84 times), Device (seen 71 times), HTML_XML_Tag (seen 57 times), Operating_System (seen 56 times), Website (seen 35 times), User_Name (seen 24 times), Algorithm (seen 10 times), Licence (seen 1 times)\n",
            "\n",
            "\n",
            "Etykiety do wykrycia\n",
            "Dictionary with 21 tags: <unk>, Application, Class, Variable, User_Interface_Element, Code_Block, Function, Language, Library, Data_Structure, Data_Type, File_Type, File_Name, Version, Device, HTML_XML_Tag, Operating_System, Website, User_Name, Algorithm, Licence\n"
          ]
        },
        {
          "name": "stderr",
          "output_type": "stream",
          "text": [
            "\n"
          ]
        }
      ],
      "source": [
        "from flair.datasets import NER_ENGLISH_STACKOVERFLOW    # zbiór otagowanych postów na Stacku\n",
        "\n",
        "corpus = NER_ENGLISH_STACKOVERFLOW().downsample(0.3)   # pobieramy korpus i zmniejszamy jego wielkość\n",
        "corpus.filter_empty_sentences()                         # usuwamy puste zdania\n",
        "\n",
        "label_type = 'ner'   # identyfikator pod którym możemy dostać typy etykiet\n",
        "label_dict = corpus.make_label_dictionary(label_type=label_type)    # TODO\n",
        "print('\\n\\nEtykiety do wykrycia')\n",
        "print(label_dict)"
      ]
    },
    {
      "cell_type": "markdown",
      "metadata": {
        "id": "vlz60uuR83oR"
      },
      "source": [
        "# Embeddingi\n",
        "\n",
        "W narzędziu Flair możemy bardzo prosto składać ze sobą różne embeddingi. \n",
        "\n",
        "**Zad2 (2 punkty):** Zapoznaj się z działaniem `StackedEmbeddings` opisanego w https://github.com/flairNLP/flair/blob/master/resources/docs/TUTORIAL_3_WORD_EMBEDDING.md i zbuduj embeddingi zawierające reprezentacje pochodzące zarówno z Glove jak i Flairowe, oparte na `news-forward`. "
      ]
    },
    {
      "cell_type": "code",
      "execution_count": 24,
      "metadata": {
        "id": "yzCwq37iwFo4"
      },
      "outputs": [],
      "source": [
        "from flair.embeddings import WordEmbeddings, StackedEmbeddings, FlairEmbeddings\n",
        "\n",
        "glove_embeddings = WordEmbeddings('glove')\n",
        "flair_embeddings = FlairEmbeddings('news-forward')\n",
        "\n",
        "\n",
        "embeddings = StackedEmbeddings([glove_embeddings, flair_embeddings])"
      ]
    },
    {
      "cell_type": "markdown",
      "metadata": {
        "id": "6Wxgw7Uc91e3"
      },
      "source": [
        "# Tagger i trainer\n",
        "\n",
        "**Zadanie 3 (2 punkty)** Bazując na treściach opisanych w https://github.com/flairNLP/flair/blob/master/resources/docs/TUTORIAL_7_TRAINING_A_MODEL.md przygotuj obiekt `SequenceTagger`, którego rozmiar wartswy ukrytej wyniesie 256. Do obiektu tego przekażemy stworzone wcześniej embeddingi, słownik `label_dict` i nazwę kolumny z etykietą ze zmiennej `label_type`. Ustawmy `use_crf` na True.\n",
        "\n",
        "Przygotuj obiekt `ModelTrainer`, który przyjmie zarówno nasz korpus jak i stworzony przed chwilą `SequenceTagger`."
      ]
    },
    {
      "cell_type": "code",
      "execution_count": 25,
      "metadata": {
        "id": "ZqglzMPP92Fq"
      },
      "outputs": [
        {
          "name": "stdout",
          "output_type": "stream",
          "text": [
            "2022-06-06 12:23:15,180 SequenceTagger predicts: Dictionary with 81 tags: O, S-Application, B-Application, E-Application, I-Application, S-Class, B-Class, E-Class, I-Class, S-Variable, B-Variable, E-Variable, I-Variable, S-User_Interface_Element, B-User_Interface_Element, E-User_Interface_Element, I-User_Interface_Element, S-Code_Block, B-Code_Block, E-Code_Block, I-Code_Block, S-Function, B-Function, E-Function, I-Function, S-Language, B-Language, E-Language, I-Language, S-Library, B-Library, E-Library, I-Library, S-Data_Structure, B-Data_Structure, E-Data_Structure, I-Data_Structure, S-Data_Type, B-Data_Type, E-Data_Type, I-Data_Type, S-File_Type, B-File_Type, E-File_Type, I-File_Type, S-File_Name, B-File_Name, E-File_Name, I-File_Name, S-Version\n",
            "2022-06-06 12:23:15,294 ----------------------------------------------------------------------------------------------------\n",
            "2022-06-06 12:23:15,296 Model: \"SequenceTagger(\n",
            "  (embeddings): StackedEmbeddings(\n",
            "    (list_embedding_0): WordEmbeddings(\n",
            "      'glove'\n",
            "      (embedding): Embedding(400001, 100)\n",
            "    )\n",
            "    (list_embedding_1): FlairEmbeddings(\n",
            "      (lm): LanguageModel(\n",
            "        (drop): Dropout(p=0.05, inplace=False)\n",
            "        (encoder): Embedding(300, 100)\n",
            "        (rnn): LSTM(100, 2048)\n",
            "        (decoder): Linear(in_features=2048, out_features=300, bias=True)\n",
            "      )\n",
            "    )\n",
            "  )\n",
            "  (word_dropout): WordDropout(p=0.05)\n",
            "  (locked_dropout): LockedDropout(p=0.5)\n",
            "  (embedding2nn): Linear(in_features=2148, out_features=2148, bias=True)\n",
            "  (rnn): LSTM(2148, 256, batch_first=True, bidirectional=True)\n",
            "  (linear): Linear(in_features=512, out_features=83, bias=True)\n",
            "  (loss_function): ViterbiLoss()\n",
            "  (crf): CRF()\n",
            ")\"\n",
            "2022-06-06 12:23:15,297 ----------------------------------------------------------------------------------------------------\n",
            "2022-06-06 12:23:15,298 Corpus: \"Corpus: 2779 train + 881 dev + 932 test sentences\"\n",
            "2022-06-06 12:23:15,299 ----------------------------------------------------------------------------------------------------\n",
            "2022-06-06 12:23:15,300 Parameters:\n",
            "2022-06-06 12:23:15,301  - learning_rate: \"0.100000\"\n",
            "2022-06-06 12:23:15,301  - mini_batch_size: \"32\"\n",
            "2022-06-06 12:23:15,302  - patience: \"3\"\n",
            "2022-06-06 12:23:15,303  - anneal_factor: \"0.5\"\n",
            "2022-06-06 12:23:15,304  - max_epochs: \"5\"\n",
            "2022-06-06 12:23:15,304  - shuffle: \"True\"\n",
            "2022-06-06 12:23:15,305  - train_with_dev: \"False\"\n",
            "2022-06-06 12:23:15,306  - batch_growth_annealing: \"False\"\n",
            "2022-06-06 12:23:15,307 ----------------------------------------------------------------------------------------------------\n",
            "2022-06-06 12:23:15,307 Model training base path: \"resources/taggers/example-upos\"\n",
            "2022-06-06 12:23:15,308 ----------------------------------------------------------------------------------------------------\n",
            "2022-06-06 12:23:15,309 Device: cuda:0\n",
            "2022-06-06 12:23:15,310 ----------------------------------------------------------------------------------------------------\n",
            "2022-06-06 12:23:15,311 Embeddings storage mode: cpu\n",
            "2022-06-06 12:23:15,312 ----------------------------------------------------------------------------------------------------\n",
            "2022-06-06 12:23:21,841 epoch 1 - iter 8/87 - loss 2.00916262 - samples/sec: 39.22 - lr: 0.100000\n",
            "2022-06-06 12:23:28,980 epoch 1 - iter 16/87 - loss 1.35454438 - samples/sec: 35.87 - lr: 0.100000\n",
            "2022-06-06 12:23:35,576 epoch 1 - iter 24/87 - loss 1.14723026 - samples/sec: 38.83 - lr: 0.100000\n",
            "2022-06-06 12:23:41,874 epoch 1 - iter 32/87 - loss 1.02593821 - samples/sec: 40.67 - lr: 0.100000\n",
            "2022-06-06 12:23:49,768 epoch 1 - iter 40/87 - loss 0.93776560 - samples/sec: 32.44 - lr: 0.100000\n",
            "2022-06-06 12:23:57,350 epoch 1 - iter 48/87 - loss 0.89705713 - samples/sec: 33.78 - lr: 0.100000\n",
            "2022-06-06 12:24:06,210 epoch 1 - iter 56/87 - loss 0.83880382 - samples/sec: 28.90 - lr: 0.100000\n",
            "2022-06-06 12:24:12,566 epoch 1 - iter 64/87 - loss 0.79630608 - samples/sec: 40.29 - lr: 0.100000\n",
            "2022-06-06 12:24:19,573 epoch 1 - iter 72/87 - loss 0.77184045 - samples/sec: 36.55 - lr: 0.100000\n",
            "2022-06-06 12:24:27,059 epoch 1 - iter 80/87 - loss 0.74641699 - samples/sec: 34.21 - lr: 0.100000\n",
            "2022-06-06 12:24:33,179 ----------------------------------------------------------------------------------------------------\n",
            "2022-06-06 12:24:33,180 EPOCH 1 done: loss 0.7335 - lr 0.100000\n"
          ]
        },
        {
          "name": "stderr",
          "output_type": "stream",
          "text": [
            "100%|██████████| 28/28 [00:17<00:00,  1.61it/s]"
          ]
        },
        {
          "name": "stdout",
          "output_type": "stream",
          "text": [
            "2022-06-06 12:24:50,611 Evaluating as a multi-label problem: False\n",
            "2022-06-06 12:24:50,629 DEV : loss 0.5130938291549683 - f1-score (micro avg)  0.0304\n",
            "2022-06-06 12:24:50,686 BAD EPOCHS (no improvement): 0\n",
            "2022-06-06 12:24:50,687 saving best model\n"
          ]
        },
        {
          "name": "stderr",
          "output_type": "stream",
          "text": [
            "\n"
          ]
        },
        {
          "name": "stdout",
          "output_type": "stream",
          "text": [
            "2022-06-06 12:24:53,665 ----------------------------------------------------------------------------------------------------\n",
            "2022-06-06 12:24:57,271 epoch 2 - iter 8/87 - loss 0.49748410 - samples/sec: 71.08 - lr: 0.100000\n",
            "2022-06-06 12:24:59,932 epoch 2 - iter 16/87 - loss 0.52322419 - samples/sec: 96.30 - lr: 0.100000\n",
            "2022-06-06 12:25:02,400 epoch 2 - iter 24/87 - loss 0.51394017 - samples/sec: 103.85 - lr: 0.100000\n",
            "2022-06-06 12:25:05,927 epoch 2 - iter 32/87 - loss 0.51684647 - samples/sec: 72.61 - lr: 0.100000\n",
            "2022-06-06 12:25:08,600 epoch 2 - iter 40/87 - loss 0.50991223 - samples/sec: 95.85 - lr: 0.100000\n",
            "2022-06-06 12:25:11,718 epoch 2 - iter 48/87 - loss 0.50382130 - samples/sec: 82.15 - lr: 0.100000\n",
            "2022-06-06 12:25:14,807 epoch 2 - iter 56/87 - loss 0.49602155 - samples/sec: 82.94 - lr: 0.100000\n",
            "2022-06-06 12:25:17,517 epoch 2 - iter 64/87 - loss 0.50061010 - samples/sec: 94.55 - lr: 0.100000\n",
            "2022-06-06 12:25:20,905 epoch 2 - iter 72/87 - loss 0.49904033 - samples/sec: 75.60 - lr: 0.100000\n",
            "2022-06-06 12:25:24,119 epoch 2 - iter 80/87 - loss 0.49556236 - samples/sec: 79.73 - lr: 0.100000\n",
            "2022-06-06 12:25:26,555 ----------------------------------------------------------------------------------------------------\n",
            "2022-06-06 12:25:26,568 EPOCH 2 done: loss 0.4929 - lr 0.100000\n"
          ]
        },
        {
          "name": "stderr",
          "output_type": "stream",
          "text": [
            "100%|██████████| 28/28 [00:03<00:00,  7.03it/s]"
          ]
        },
        {
          "name": "stdout",
          "output_type": "stream",
          "text": [
            "2022-06-06 12:25:30,561 Evaluating as a multi-label problem: False\n",
            "2022-06-06 12:25:30,585 DEV : loss 0.4566187560558319 - f1-score (micro avg)  0.0403\n",
            "2022-06-06 12:25:30,654 BAD EPOCHS (no improvement): 0\n",
            "2022-06-06 12:25:30,656 saving best model\n"
          ]
        },
        {
          "name": "stderr",
          "output_type": "stream",
          "text": [
            "\n"
          ]
        },
        {
          "name": "stdout",
          "output_type": "stream",
          "text": [
            "2022-06-06 12:25:32,748 ----------------------------------------------------------------------------------------------------\n",
            "2022-06-06 12:25:35,637 epoch 3 - iter 8/87 - loss 0.39296420 - samples/sec: 88.68 - lr: 0.100000\n",
            "2022-06-06 12:25:38,431 epoch 3 - iter 16/87 - loss 0.43035135 - samples/sec: 91.70 - lr: 0.100000\n",
            "2022-06-06 12:25:40,770 epoch 3 - iter 24/87 - loss 0.43968509 - samples/sec: 109.56 - lr: 0.100000\n",
            "2022-06-06 12:25:43,760 epoch 3 - iter 32/87 - loss 0.44023882 - samples/sec: 85.68 - lr: 0.100000\n",
            "2022-06-06 12:25:46,289 epoch 3 - iter 40/87 - loss 0.43424356 - samples/sec: 101.30 - lr: 0.100000\n",
            "2022-06-06 12:25:49,185 epoch 3 - iter 48/87 - loss 0.43109828 - samples/sec: 88.46 - lr: 0.100000\n",
            "2022-06-06 12:25:52,298 epoch 3 - iter 56/87 - loss 0.43098766 - samples/sec: 82.28 - lr: 0.100000\n",
            "2022-06-06 12:25:56,209 epoch 3 - iter 64/87 - loss 0.42410614 - samples/sec: 65.49 - lr: 0.100000\n",
            "2022-06-06 12:25:58,957 epoch 3 - iter 72/87 - loss 0.43031488 - samples/sec: 93.22 - lr: 0.100000\n",
            "2022-06-06 12:26:02,375 epoch 3 - iter 80/87 - loss 0.42898540 - samples/sec: 74.94 - lr: 0.100000\n",
            "2022-06-06 12:26:04,985 ----------------------------------------------------------------------------------------------------\n",
            "2022-06-06 12:26:04,986 EPOCH 3 done: loss 0.4253 - lr 0.100000\n"
          ]
        },
        {
          "name": "stderr",
          "output_type": "stream",
          "text": [
            "100%|██████████| 28/28 [00:03<00:00,  7.22it/s]"
          ]
        },
        {
          "name": "stdout",
          "output_type": "stream",
          "text": [
            "2022-06-06 12:26:08,871 Evaluating as a multi-label problem: False\n",
            "2022-06-06 12:26:08,891 DEV : loss 0.39059391617774963 - f1-score (micro avg)  0.1835\n",
            "2022-06-06 12:26:08,955 BAD EPOCHS (no improvement): 0\n",
            "2022-06-06 12:26:08,956 saving best model\n"
          ]
        },
        {
          "name": "stderr",
          "output_type": "stream",
          "text": [
            "\n"
          ]
        },
        {
          "name": "stdout",
          "output_type": "stream",
          "text": [
            "2022-06-06 12:26:11,138 ----------------------------------------------------------------------------------------------------\n",
            "2022-06-06 12:26:14,319 epoch 4 - iter 8/87 - loss 0.38683954 - samples/sec: 80.54 - lr: 0.100000\n",
            "2022-06-06 12:26:17,427 epoch 4 - iter 16/87 - loss 0.39393260 - samples/sec: 82.44 - lr: 0.100000\n",
            "2022-06-06 12:26:20,462 epoch 4 - iter 24/87 - loss 0.40339151 - samples/sec: 84.41 - lr: 0.100000\n",
            "2022-06-06 12:26:24,349 epoch 4 - iter 32/87 - loss 0.40091455 - samples/sec: 65.90 - lr: 0.100000\n",
            "2022-06-06 12:26:26,916 epoch 4 - iter 40/87 - loss 0.38869756 - samples/sec: 99.80 - lr: 0.100000\n",
            "2022-06-06 12:26:29,923 epoch 4 - iter 48/87 - loss 0.38531396 - samples/sec: 85.18 - lr: 0.100000\n",
            "2022-06-06 12:26:32,667 epoch 4 - iter 56/87 - loss 0.38317236 - samples/sec: 93.37 - lr: 0.100000\n",
            "2022-06-06 12:26:35,098 epoch 4 - iter 64/87 - loss 0.38778582 - samples/sec: 105.41 - lr: 0.100000\n",
            "2022-06-06 12:26:37,860 epoch 4 - iter 72/87 - loss 0.38318556 - samples/sec: 92.73 - lr: 0.100000\n",
            "2022-06-06 12:26:40,950 epoch 4 - iter 80/87 - loss 0.38874293 - samples/sec: 82.90 - lr: 0.100000\n",
            "2022-06-06 12:26:42,993 ----------------------------------------------------------------------------------------------------\n",
            "2022-06-06 12:26:42,993 EPOCH 4 done: loss 0.3826 - lr 0.100000\n"
          ]
        },
        {
          "name": "stderr",
          "output_type": "stream",
          "text": [
            "100%|██████████| 28/28 [00:03<00:00,  7.29it/s]"
          ]
        },
        {
          "name": "stdout",
          "output_type": "stream",
          "text": [
            "2022-06-06 12:26:46,839 Evaluating as a multi-label problem: False\n",
            "2022-06-06 12:26:46,857 DEV : loss 0.37562450766563416 - f1-score (micro avg)  0.1951\n",
            "2022-06-06 12:26:46,919 BAD EPOCHS (no improvement): 0\n",
            "2022-06-06 12:26:46,924 saving best model\n"
          ]
        },
        {
          "name": "stderr",
          "output_type": "stream",
          "text": [
            "\n"
          ]
        },
        {
          "name": "stdout",
          "output_type": "stream",
          "text": [
            "2022-06-06 12:26:49,214 ----------------------------------------------------------------------------------------------------\n",
            "2022-06-06 12:26:51,905 epoch 5 - iter 8/87 - loss 0.32852262 - samples/sec: 95.22 - lr: 0.100000\n",
            "2022-06-06 12:26:54,796 epoch 5 - iter 16/87 - loss 0.35694982 - samples/sec: 88.60 - lr: 0.100000\n",
            "2022-06-06 12:26:57,345 epoch 5 - iter 24/87 - loss 0.34700595 - samples/sec: 100.50 - lr: 0.100000\n",
            "2022-06-06 12:26:59,918 epoch 5 - iter 32/87 - loss 0.34637300 - samples/sec: 99.58 - lr: 0.100000\n",
            "2022-06-06 12:27:02,755 epoch 5 - iter 40/87 - loss 0.35731223 - samples/sec: 90.30 - lr: 0.100000\n",
            "2022-06-06 12:27:06,652 epoch 5 - iter 48/87 - loss 0.35966616 - samples/sec: 65.72 - lr: 0.100000\n",
            "2022-06-06 12:27:09,603 epoch 5 - iter 56/87 - loss 0.35767831 - samples/sec: 86.80 - lr: 0.100000\n",
            "2022-06-06 12:27:13,355 epoch 5 - iter 64/87 - loss 0.36130577 - samples/sec: 68.28 - lr: 0.100000\n",
            "2022-06-06 12:27:16,007 epoch 5 - iter 72/87 - loss 0.35679562 - samples/sec: 96.60 - lr: 0.100000\n",
            "2022-06-06 12:27:19,209 epoch 5 - iter 80/87 - loss 0.35638405 - samples/sec: 80.00 - lr: 0.100000\n",
            "2022-06-06 12:27:21,260 ----------------------------------------------------------------------------------------------------\n",
            "2022-06-06 12:27:21,261 EPOCH 5 done: loss 0.3571 - lr 0.100000\n"
          ]
        },
        {
          "name": "stderr",
          "output_type": "stream",
          "text": [
            "100%|██████████| 28/28 [00:03<00:00,  7.21it/s]"
          ]
        },
        {
          "name": "stdout",
          "output_type": "stream",
          "text": [
            "2022-06-06 12:27:25,151 Evaluating as a multi-label problem: False\n",
            "2022-06-06 12:27:25,173 DEV : loss 0.35304760932922363 - f1-score (micro avg)  0.3028\n",
            "2022-06-06 12:27:25,234 BAD EPOCHS (no improvement): 0\n",
            "2022-06-06 12:27:25,236 saving best model\n"
          ]
        },
        {
          "name": "stderr",
          "output_type": "stream",
          "text": [
            "\n"
          ]
        },
        {
          "name": "stdout",
          "output_type": "stream",
          "text": [
            "2022-06-06 12:27:29,727 ----------------------------------------------------------------------------------------------------\n",
            "2022-06-06 12:27:29,729 loading file resources/taggers/example-upos/best-model.pt\n",
            "2022-06-06 12:27:31,340 SequenceTagger predicts: Dictionary with 83 tags: O, S-Application, B-Application, E-Application, I-Application, S-Class, B-Class, E-Class, I-Class, S-Variable, B-Variable, E-Variable, I-Variable, S-User_Interface_Element, B-User_Interface_Element, E-User_Interface_Element, I-User_Interface_Element, S-Code_Block, B-Code_Block, E-Code_Block, I-Code_Block, S-Function, B-Function, E-Function, I-Function, S-Language, B-Language, E-Language, I-Language, S-Library, B-Library, E-Library, I-Library, S-Data_Structure, B-Data_Structure, E-Data_Structure, I-Data_Structure, S-Data_Type, B-Data_Type, E-Data_Type, I-Data_Type, S-File_Type, B-File_Type, E-File_Type, I-File_Type, S-File_Name, B-File_Name, E-File_Name, I-File_Name, S-Version\n"
          ]
        },
        {
          "name": "stderr",
          "output_type": "stream",
          "text": [
            "100%|██████████| 30/30 [00:18<00:00,  1.64it/s]"
          ]
        },
        {
          "name": "stdout",
          "output_type": "stream",
          "text": [
            "2022-06-06 12:27:49,798 Evaluating as a multi-label problem: False\n",
            "2022-06-06 12:27:49,825 0.3678\t0.2247\t0.279\t0.1894\n",
            "2022-06-06 12:27:49,826 \n",
            "Results:\n",
            "- F-score (micro) 0.279\n",
            "- F-score (macro) 0.2245\n",
            "- Accuracy 0.1894\n",
            "\n",
            "By class:\n",
            "                        precision    recall  f1-score   support\n",
            "\n",
            "                 Class     0.3500    0.3913    0.3695       161\n",
            "           Application     0.2797    0.2391    0.2578       138\n",
            "              Variable     0.2308    0.0882    0.1277       136\n",
            "User_Interface_Element     0.4694    0.2018    0.2822       114\n",
            "               Library     0.2564    0.2632    0.2597        76\n",
            "            Code_Block     0.1111    0.0814    0.0940        86\n",
            "              Function     0.4000    0.1500    0.2182        80\n",
            "              Language     0.5417    0.5000    0.5200        52\n",
            "        Data_Structure     0.8182    0.4286    0.5625        63\n",
            "               Version     0.7143    0.3261    0.4478        46\n",
            "             File_Name     0.3333    0.0185    0.0351        54\n",
            "             Data_Type     0.9000    0.2812    0.4286        32\n",
            "             File_Type     0.3333    0.0278    0.0513        36\n",
            "      Operating_System     0.7333    0.5238    0.6111        21\n",
            "          HTML_XML_Tag     0.0000    0.0000    0.0000        21\n",
            "               Website     0.0000    0.0000    0.0000        16\n",
            "                Device     0.0000    0.0000    0.0000        11\n",
            "             User_Name     0.0000    0.0000    0.0000         7\n",
            "             Algorithm     0.0000    0.0000    0.0000         7\n",
            "\n",
            "             micro avg     0.3678    0.2247    0.2790      1157\n",
            "             macro avg     0.3406    0.1853    0.2245      1157\n",
            "          weighted avg     0.3696    0.2247    0.2621      1157\n",
            "\n",
            "2022-06-06 12:27:49,827 ----------------------------------------------------------------------------------------------------\n"
          ]
        },
        {
          "name": "stderr",
          "output_type": "stream",
          "text": [
            "\n"
          ]
        },
        {
          "data": {
            "text/plain": [
              "{'test_score': 0.27896995708154504,\n",
              " 'dev_score_history': [0.030431107354184278,\n",
              "  0.04025617566331199,\n",
              "  0.18352310783657064,\n",
              "  0.19508670520231214,\n",
              "  0.3028126870137642],\n",
              " 'train_loss_history': [0.7335457417961899,\n",
              "  0.4929056407011975,\n",
              "  0.42530044657201155,\n",
              "  0.3826245163520672,\n",
              "  0.35705954373250837],\n",
              " 'dev_loss_history': [0.5130938291549683,\n",
              "  0.4566187560558319,\n",
              "  0.39059391617774963,\n",
              "  0.37562450766563416,\n",
              "  0.35304760932922363]}"
            ]
          },
          "execution_count": 25,
          "metadata": {},
          "output_type": "execute_result"
        }
      ],
      "source": [
        "from flair.models import SequenceTagger\n",
        "from flair.trainers import ModelTrainer\n",
        "\n",
        "tagger = SequenceTagger(hidden_size=256,\n",
        "                        embeddings=embeddings,\n",
        "                        tag_dictionary=label_dict,\n",
        "                        tag_type=label_type,\n",
        "                        use_crf=True)\n",
        "trainer = ModelTrainer(tagger, corpus)\n",
        "\n",
        "\n",
        "#stworzony trainer możemy zacząć trenować!\n",
        "trainer.train('resources/taggers/example-upos',\n",
        "              learning_rate=0.1,\n",
        "              mini_batch_size=32,\n",
        "              max_epochs=5)\n",
        "\n",
        "# a kiedy wytrenujemy, wczytujemy najlepszy model.\n"
      ]
    },
    {
      "cell_type": "code",
      "execution_count": 26,
      "metadata": {},
      "outputs": [
        {
          "name": "stdout",
          "output_type": "stream",
          "text": [
            "2022-06-06 12:27:49,918 loading file resources/taggers/example-upos/final-model.pt\n",
            "2022-06-06 12:27:51,843 SequenceTagger predicts: Dictionary with 83 tags: O, S-Application, B-Application, E-Application, I-Application, S-Class, B-Class, E-Class, I-Class, S-Variable, B-Variable, E-Variable, I-Variable, S-User_Interface_Element, B-User_Interface_Element, E-User_Interface_Element, I-User_Interface_Element, S-Code_Block, B-Code_Block, E-Code_Block, I-Code_Block, S-Function, B-Function, E-Function, I-Function, S-Language, B-Language, E-Language, I-Language, S-Library, B-Library, E-Library, I-Library, S-Data_Structure, B-Data_Structure, E-Data_Structure, I-Data_Structure, S-Data_Type, B-Data_Type, E-Data_Type, I-Data_Type, S-File_Type, B-File_Type, E-File_Type, I-File_Type, S-File_Name, B-File_Name, E-File_Name, I-File_Name, S-Version\n"
          ]
        }
      ],
      "source": [
        "model = SequenceTagger.load('resources/taggers/example-upos/final-model.pt')\n"
      ]
    },
    {
      "cell_type": "markdown",
      "metadata": {
        "id": "lxrd6m0H_-SJ"
      },
      "source": [
        "# Predykcja z udziałem modelu\n",
        "\n",
        "Jeśli model został wytrenowany, poniżej znajdziemy fragment kodu, który może wykryć encje w zdaniach."
      ]
    },
    {
      "cell_type": "code",
      "execution_count": 27,
      "metadata": {
        "id": "Koq76zqawM3P"
      },
      "outputs": [
        {
          "name": "stdout",
          "output_type": "stream",
          "text": [
            "Sentence: \"huge files can be opened from Python 3 .\" → [\"Python\"/Language, \"3\"/Version]\n"
          ]
        }
      ],
      "source": [
        "from flair.data import Sentence\n",
        "\n",
        "# Jeśli nasz model się wyuczył, powinien wykryć Python jako język.\n",
        "# Uwaga, ponieważ pracujemy na niewielkim podzbiorze zbioru danych (downsample(0.1) próbkuje 10%), \n",
        "# otrzymywane wyniki mogą być kiepskiej jakości, najlepiej zwiększyść ilość danych \n",
        "# jeśli pracujemy w domu.\n",
        "sentence = Sentence('huge files can be opened from Python 3.')   # stwórz obiekt zdania\n",
        "model.predict(sentence)                                         # wykryj encje nazwane\n",
        "print(sentence.to_tagged_string())                              # wyświetl zdanie i wykryte w nim encje"
      ]
    },
    {
      "cell_type": "code",
      "execution_count": 28,
      "metadata": {
        "id": "zOgY6c2y2eWb"
      },
      "outputs": [
        {
          "name": "stdout",
          "output_type": "stream",
          "text": [
            "Sentence: \"Pandas is a library for Python which includes DataFrame class mentioned by Anakin01 . Usage : ` pd.DataFrame ([[ 1,2 ],[ 3,4 ]])` . You can keep it in variable df _ train . It works on both Windows and Linux .\" → [\"Python\"/Language, \"DataFrame\"/Class, \"Anakin01 . Usage : ` pd.DataFrame ([[ 1,2 ],[ 3,4 ]])`\"/Code_Block, \"df _ train\"/Code_Block, \"Windows\"/Operating_System, \"Linux\"/Application]\n"
          ]
        }
      ],
      "source": [
        "sentence = Sentence('Pandas is a library for Python which includes DataFrame class mentioned by Anakin01. Usage: `pd.DataFrame([[1,2],[3,4]])`. You can keep it in variable df_train. It works on both Windows and Linux.')   # stwórz obiekt zdania\n",
        "model.predict(sentence)                                         # wykryj encje nazwan\n",
        "print(sentence.to_tagged_string())  "
      ]
    },
    {
      "cell_type": "code",
      "execution_count": null,
      "metadata": {},
      "outputs": [],
      "source": []
    }
  ],
  "metadata": {
    "colab": {
      "collapsed_sections": [],
      "name": "lab10.ipynb",
      "provenance": []
    },
    "kernelspec": {
      "display_name": "Python 3",
      "name": "python3"
    },
    "language_info": {
      "codemirror_mode": {
        "name": "ipython",
        "version": 3
      },
      "file_extension": ".py",
      "mimetype": "text/x-python",
      "name": "python",
      "nbconvert_exporter": "python",
      "pygments_lexer": "ipython3",
      "version": "3.9.4"
    }
  },
  "nbformat": 4,
  "nbformat_minor": 0
}
