{
 "cells": [
  {
   "cell_type": "markdown",
   "metadata": {},
   "source": [
    "# Dataset creation"
   ]
  },
  {
   "cell_type": "code",
   "execution_count": 2,
   "metadata": {},
   "outputs": [],
   "source": [
    "# !wget https://raw.githubusercontent.com/karpathy/char-rnn/master/data/tinyshakespeare/input.txt"
   ]
  },
  {
   "cell_type": "code",
   "execution_count": 2,
   "metadata": {},
   "outputs": [
    {
     "name": "stdout",
     "output_type": "stream",
     "text": [
      "1115394 chars\n",
      "-----\n",
      "First Citizen:\n",
      "Before we proceed any further, hear me speak.\n",
      "\n",
      "All:\n",
      "Speak, speak.\n",
      "\n",
      "First Citizen:\n",
      "You\n"
     ]
    }
   ],
   "source": [
    "with open('input.txt', 'r', encoding='utf-8') as f:\n",
    "    text = f.read()\n",
    "\n",
    "print(len(text), \"chars\\n-----\")\n",
    "print(text[:100])"
   ]
  },
  {
   "cell_type": "code",
   "execution_count": 3,
   "metadata": {},
   "outputs": [
    {
     "name": "stdout",
     "output_type": "stream",
     "text": [
      "\n",
      " !$&',-.3:;?ABCDEFGHIJKLMNOPQRSTUVWXYZabcdefghijklmnopqrstuvwxyz 65\n"
     ]
    }
   ],
   "source": [
    "chars = sorted(list(set(text)))\n",
    "vocab_size = len(chars)\n",
    "print(\"\".join(chars), vocab_size)"
   ]
  },
  {
   "cell_type": "code",
   "execution_count": 4,
   "metadata": {},
   "outputs": [
    {
     "name": "stdout",
     "output_type": "stream",
     "text": [
      "[20, 43, 50, 50, 53, 1, 58, 46, 43, 56, 43]\n",
      "Hello there\n"
     ]
    }
   ],
   "source": [
    "stoi = {ch: i for i, ch in enumerate(chars)}\n",
    "itos = {i: ch for ch, i in stoi.items()}\n",
    "\n",
    "encode = lambda word: [stoi[c] for c in word] \n",
    "decode = lambda word: \"\".join([itos[c] for c in word])\n",
    "\n",
    "print(encode(\"Hello there\"))\n",
    "print(decode(encode(\"Hello there\")))"
   ]
  },
  {
   "cell_type": "markdown",
   "metadata": {},
   "source": [
    "Known tokenizers: sentence piece (google), ticktoken (BPE, openAI)"
   ]
  },
  {
   "cell_type": "code",
   "execution_count": 5,
   "metadata": {},
   "outputs": [
    {
     "name": "stdout",
     "output_type": "stream",
     "text": [
      "torch.Size([1115394]) torch.int64\n",
      "tensor([18, 47, 56, 57, 58,  1, 15, 47, 58, 47, 64, 43, 52, 10,  0, 14, 43, 44,\n",
      "        53, 56, 43,  1, 61, 43,  1, 54, 56, 53, 41, 43, 43, 42,  1, 39, 52, 63,\n",
      "         1, 44, 59, 56, 58, 46, 43, 56,  6,  1, 46, 43, 39, 56,  1, 51, 43,  1,\n",
      "        57, 54, 43, 39, 49,  8,  0,  0, 13, 50, 50, 10,  0, 31, 54, 43, 39, 49,\n",
      "         6,  1, 57, 54, 43, 39, 49,  8,  0,  0, 18, 47, 56, 57, 58,  1, 15, 47,\n",
      "        58, 47, 64, 43, 52, 10,  0, 37, 53, 59])\n"
     ]
    }
   ],
   "source": [
    "import torch\n",
    "data = torch.tensor(encode(text), dtype=torch.long)\n",
    "print(data.shape, data.dtype)\n",
    "print(data[:100])"
   ]
  },
  {
   "cell_type": "code",
   "execution_count": 6,
   "metadata": {},
   "outputs": [],
   "source": [
    "n = int(0.9 * len(data))\n",
    "train_data = data[:n]\n",
    "val_data = data[n:]"
   ]
  },
  {
   "cell_type": "code",
   "execution_count": 7,
   "metadata": {},
   "outputs": [
    {
     "name": "stdout",
     "output_type": "stream",
     "text": [
      "inputs:\n",
      "torch.Size([4, 8])\n",
      "tensor([[24, 43, 58,  5, 57,  1, 46, 43],\n",
      "        [44, 53, 56,  1, 58, 46, 39, 58],\n",
      "        [52, 58,  1, 58, 46, 39, 58,  1],\n",
      "        [25, 17, 27, 10,  0, 21,  1, 54]])\n",
      "targets:\n",
      "torch.Size([4, 8])\n",
      "tensor([[43, 58,  5, 57,  1, 46, 43, 39],\n",
      "        [53, 56,  1, 58, 46, 39, 58,  1],\n",
      "        [58,  1, 58, 46, 39, 58,  1, 46],\n",
      "        [17, 27, 10,  0, 21,  1, 54, 39]])\n",
      "----\n",
      "tensor([24]) → 43\n",
      "tensor([24, 43]) → 58\n",
      "tensor([24, 43, 58]) → 5\n",
      "tensor([24, 43, 58,  5]) → 57\n",
      "tensor([24, 43, 58,  5, 57]) → 1\n",
      "tensor([24, 43, 58,  5, 57,  1]) → 46\n",
      "tensor([24, 43, 58,  5, 57,  1, 46]) → 43\n",
      "tensor([24, 43, 58,  5, 57,  1, 46, 43]) → 39\n",
      "tensor([44]) → 53\n",
      "tensor([44, 53]) → 56\n",
      "tensor([44, 53, 56]) → 1\n",
      "tensor([44, 53, 56,  1]) → 58\n",
      "tensor([44, 53, 56,  1, 58]) → 46\n",
      "tensor([44, 53, 56,  1, 58, 46]) → 39\n",
      "tensor([44, 53, 56,  1, 58, 46, 39]) → 58\n",
      "tensor([44, 53, 56,  1, 58, 46, 39, 58]) → 1\n",
      "tensor([52]) → 58\n",
      "tensor([52, 58]) → 1\n",
      "tensor([52, 58,  1]) → 58\n",
      "tensor([52, 58,  1, 58]) → 46\n",
      "tensor([52, 58,  1, 58, 46]) → 39\n",
      "tensor([52, 58,  1, 58, 46, 39]) → 58\n",
      "tensor([52, 58,  1, 58, 46, 39, 58]) → 1\n",
      "tensor([52, 58,  1, 58, 46, 39, 58,  1]) → 46\n",
      "tensor([25]) → 17\n",
      "tensor([25, 17]) → 27\n",
      "tensor([25, 17, 27]) → 10\n",
      "tensor([25, 17, 27, 10]) → 0\n",
      "tensor([25, 17, 27, 10,  0]) → 21\n",
      "tensor([25, 17, 27, 10,  0, 21]) → 1\n",
      "tensor([25, 17, 27, 10,  0, 21,  1]) → 54\n",
      "tensor([25, 17, 27, 10,  0, 21,  1, 54]) → 39\n"
     ]
    }
   ],
   "source": [
    "# batch dimention\n",
    "torch.manual_seed(1337)\n",
    "batch_size = 4 # how many independent sequences will we process in paralell\n",
    "block_size = 8 # max context_length\n",
    "def get_batch(split):\n",
    "    data = train_data if split==\"train\" else val_data\n",
    "    ix = torch.randint(len(data) - block_size, (batch_size,)) # beginning of the context\n",
    "    x = torch.stack([data[i: i+block_size] for i in ix])\n",
    "    y = torch.stack([data[i+1: i+block_size+1] for i in ix])\n",
    "    return x, y\n",
    "\n",
    "xb, yb = get_batch('train')\n",
    "print(\"inputs:\", xb.shape, xb, sep=\"\\n\")\n",
    "print(\"targets:\", yb.shape, yb, \"----\", sep=\"\\n\")\n",
    "# each row is a training example\n",
    "\n",
    "\n",
    "# time dimention\n",
    "for b in range(batch_size):\n",
    "    for t in range(block_size):\n",
    "        context = xb[b, :t+1]\n",
    "        target = yb[b, t]\n",
    "        print(context, \"→\", target.item())"
   ]
  },
  {
   "cell_type": "markdown",
   "metadata": {},
   "source": [
    "It's multiple examples at once. We want to predict 18 → 47; 18, 47 → 56; ...\n",
    "\n",
    "We'd like the transformers to predict for little and big contexts, up to blocksize."
   ]
  },
  {
   "cell_type": "markdown",
   "metadata": {},
   "source": [
    "# Bigram model"
   ]
  },
  {
   "cell_type": "code",
   "execution_count": 8,
   "metadata": {},
   "outputs": [
    {
     "name": "stdout",
     "output_type": "stream",
     "text": [
      "torch.Size([32, 65])\n",
      "4.878634929656982 4.174387269895637\n",
      "\n",
      "Sr?qP-QWktXoL&jLDJgOLVz'RIoDqHdhsV&vLLxatjscMpwLERSPyao.qfzs$Ys$zF-w,;eEkzxjgCKFChs!iWW.ObzDnxA Ms$3\n"
     ]
    }
   ],
   "source": [
    "import torch.nn as nn\n",
    "from torch.nn import functional as F\n",
    "from math import log\n",
    "torch.manual_seed(1337)\n",
    "\n",
    "# baseline – context of 1\n",
    "class BigramLanguageModel(nn.Module):\n",
    "    def __init__(self, vocab_size):\n",
    "        super().__init__()\n",
    "        # each token directly reads off the logits for the next token from a lookup table\n",
    "        self.token_embedding_table = nn.Embedding(vocab_size, vocab_size)\n",
    "\n",
    "    def forward(self, idx, targets=None):\n",
    "        # idx and targets are both (B, T) tensor of integers\n",
    "        logits = self.token_embedding_table(idx) #(B, T, C) – (batch, time, channel)\n",
    "        if targets is None:\n",
    "            loss = None\n",
    "        else:\n",
    "            B, T, C = logits.shape\n",
    "            logits = logits.view(B*T, C) # pytorch expects C in 2nd dimention\n",
    "            targets = targets.view(B*T) # or -1\n",
    "            loss = F.cross_entropy(logits, targets) \n",
    "        return logits, loss\n",
    "\n",
    "    def generate(self, idx, max_new_tokens):\n",
    "        for _ in range(max_new_tokens):\n",
    "            logits, _ = self(idx) # feed all history to the – not really needed here\n",
    "            # focus only on the last time step (last elem in time dimention)\n",
    "            logits = logits[:, -1, :] # (B, C)\n",
    "            probs = F.softmax(logits, dim=-1) # (B, C)\n",
    "            idx_next = torch.multinomial(probs, num_samples=1) # (B, 1)\n",
    "            # append \n",
    "            idx = torch.cat((idx, idx_next), dim=1) # (B, T+1)\n",
    "        return idx\n",
    "\n",
    "    \n",
    "m = BigramLanguageModel(vocab_size)\n",
    "logits, loss = m(xb, yb)\n",
    "print(logits.shape)\n",
    "print(loss.item(), -log(1/65))\n",
    "\n",
    "idx = torch.zeros((1,1), dtype=torch.long) # start with a single newline token\n",
    "print(decode(m.generate(idx, max_new_tokens=100)[0].tolist())) # 0th batch, because it's the only one"
   ]
  },
  {
   "cell_type": "code",
   "execution_count": 90,
   "metadata": {},
   "outputs": [
    {
     "name": "stdout",
     "output_type": "stream",
     "text": [
      "2.26753830909729\n"
     ]
    }
   ],
   "source": [
    "# train\n",
    "batch_size = 32\n",
    "optimizer = torch.optim.AdamW(m.parameters(), lr=1e-3)\n",
    "\n",
    "for i in range(10000):\n",
    "    xb, yb = get_batch(\"test\")\n",
    "    # forward\n",
    "    logits, loss = m(xb, yb)\n",
    "    # backward\n",
    "    optimizer.zero_grad(set_to_none=True)\n",
    "    loss.backward()\n",
    "    # update\n",
    "    optimizer.step()\n",
    "\n",
    "print(loss.item())\n"
   ]
  },
  {
   "cell_type": "code",
   "execution_count": 95,
   "metadata": {},
   "outputs": [
    {
     "name": "stdout",
     "output_type": "stream",
     "text": [
      "\n",
      "ONISPENTheagse y hofiniral at, toffthuchot\n",
      "\n",
      "IOSust s.\n",
      "\n",
      "ysed;\n",
      "LOSENIEBe!\n",
      "ANAPEn\n",
      "SEN:\n",
      "I'r, sthou se o-\n"
     ]
    }
   ],
   "source": [
    "print(decode(m.generate(torch.zeros((1,1), dtype=torch.long), max_new_tokens=100)[0].tolist())) # 0th batch, because it's the only one"
   ]
  },
  {
   "cell_type": "markdown",
   "metadata": {},
   "source": [
    "# Self-attention"
   ]
  },
  {
   "cell_type": "code",
   "execution_count": 9,
   "metadata": {},
   "outputs": [
    {
     "data": {
      "text/plain": [
       "torch.Size([4, 8, 2])"
      ]
     },
     "execution_count": 9,
     "metadata": {},
     "output_type": "execute_result"
    }
   ],
   "source": [
    "torch.manual_seed(1337)\n",
    "B, T, C = 4, 8, 2 # batch, time, channel\n",
    "x = torch.randn(B, T, C)\n",
    "x.shape"
   ]
  },
  {
   "cell_type": "markdown",
   "metadata": {},
   "source": [
    "Tokens should commuinicate with previous tokens in the sequence."
   ]
  },
  {
   "cell_type": "code",
   "execution_count": 10,
   "metadata": {},
   "outputs": [
    {
     "data": {
      "text/plain": [
       "True"
      ]
     },
     "execution_count": 10,
     "metadata": {},
     "output_type": "execute_result"
    }
   ],
   "source": [
    "# bag of words – just average \n",
    "\n",
    "# version 1 – explicit loop\n",
    "xbow = torch.zeros((B, T, C)) \n",
    "for b in range(B):\n",
    "    for t in range(T):\n",
    "        xprev = x[b,:t+1] # (t,C)\n",
    "        xbow[b, t] = torch.mean(xprev, 0) # (C,)\n",
    "\n",
    "# version 2 – matrix multiplication\n",
    "wei = torch.tril(torch.ones(T, T)) # lower triangular matrix – weights\n",
    "wei = wei / wei.sum(dim=1, keepdim=True) # normalize\n",
    "\n",
    "xbow2 = wei @ x #(B, *T*, T) @ (B, T, C) → (B, *T*, C)\n",
    "\n",
    "# version 3 – softmax\n",
    "tril = torch.tril(torch.ones(T, T))\n",
    "wei = torch.zeros((T, T)) # how much of each token are we taking; it can be different in the future\n",
    "wei = wei.masked_fill(tril==0, float('-inf')) # token from the past cannot communicate; where tril is 0, fill with -inf\n",
    "wei = F.softmax(wei, dim=-1) # normalize; wei is now the same as in 2nd version\n",
    "\n",
    "xbow3 = wei @ x\n",
    "\n",
    "\n",
    "torch.allclose(xbow, xbow3, atol=1e-7)"
   ]
  },
  {
   "cell_type": "code",
   "execution_count": 11,
   "metadata": {},
   "outputs": [
    {
     "name": "stdout",
     "output_type": "stream",
     "text": [
      "a=tensor([[1.0000, 0.0000, 0.0000],\n",
      "        [0.5000, 0.5000, 0.0000],\n",
      "        [0.3333, 0.3333, 0.3333]])\n",
      "b=tensor([[2., 7.],\n",
      "        [6., 4.],\n",
      "        [6., 5.]])\n",
      "c=tensor([[2.0000, 7.0000],\n",
      "        [4.0000, 5.5000],\n",
      "        [4.6667, 5.3333]])\n"
     ]
    }
   ],
   "source": [
    "# mean but only for the context\n",
    "torch.manual_seed(42)\n",
    "a = torch.tril(torch.ones((3, 3))) # lower triangular matrix\n",
    "a /= torch.sum(a, dim=1, keepdim=True) # normalize\n",
    "b = torch.randint(0, 10, (3, 2)).float()\n",
    "c = a @ b\n",
    "\n",
    "print(f\"{a=}\")\n",
    "print(f\"{b=}\")\n",
    "print(f\"{c=}\")\n"
   ]
  },
  {
   "cell_type": "markdown",
   "metadata": {},
   "source": [
    "Every single token has query (what an I looking for) and a key (what do I contain). Later we do q * k for key from all tokens to get the attention score.\n",
    "\n",
    "E.g. k: I'm a consonant on the posision 8 \n",
    "\n",
    "q: i'm looking for a vowel on the positions 1-4"
   ]
  },
  {
   "cell_type": "code",
   "execution_count": 12,
   "metadata": {},
   "outputs": [
    {
     "data": {
      "text/plain": [
       "torch.Size([4, 8, 16])"
      ]
     },
     "execution_count": 12,
     "metadata": {},
     "output_type": "execute_result"
    }
   ],
   "source": [
    "# version 4 – self-attention\n",
    "torch.manual_seed(1337)\n",
    "B, T, C = 4, 8, 2 # batch, time, channel\n",
    "x = torch.randn(B, T, C)\n",
    "\n",
    "# single head of self-attention\n",
    "head_size = 16\n",
    "key = nn.Linear(C, head_size, bias=False)\n",
    "query = nn.Linear(C, head_size, bias=False)\n",
    "value = nn.Linear(C, head_size, bias=False)\n",
    "k = key(x) # (B, T, H=16)\n",
    "q = query(x) # (B, T, H=16)\n",
    "wei = q @ k.transpose(-2, -1) # (B, T, H) @ (B, H, T) → (B, T, T)\n",
    "# wei = torch.zeros((T, T)) # not 0 anymore\n",
    "\n",
    "tril = torch.tril(torch.ones(T, T))\n",
    "wei = wei.masked_fill(tril==0, float('-inf'))\n",
    "wei = F.softmax(wei, dim=-1)\n",
    "\n",
    "v = value(x)\n",
    "out = wei @ v\n",
    "# out = wei @ x\n",
    "\n",
    "out.shape"
   ]
  },
  {
   "cell_type": "code",
   "execution_count": 13,
   "metadata": {},
   "outputs": [
    {
     "data": {
      "text/plain": [
       "tensor([[1.0000, 0.0000, 0.0000, 0.0000, 0.0000, 0.0000, 0.0000, 0.0000],\n",
       "        [0.5599, 0.4401, 0.0000, 0.0000, 0.0000, 0.0000, 0.0000, 0.0000],\n",
       "        [0.3220, 0.2016, 0.4764, 0.0000, 0.0000, 0.0000, 0.0000, 0.0000],\n",
       "        [0.1640, 0.0815, 0.2961, 0.4585, 0.0000, 0.0000, 0.0000, 0.0000],\n",
       "        [0.2051, 0.3007, 0.1894, 0.1808, 0.1241, 0.0000, 0.0000, 0.0000],\n",
       "        [0.0600, 0.1273, 0.0291, 0.0169, 0.0552, 0.7114, 0.0000, 0.0000],\n",
       "        [0.1408, 0.1025, 0.1744, 0.2038, 0.1690, 0.0669, 0.1426, 0.0000],\n",
       "        [0.0223, 0.1086, 0.0082, 0.0040, 0.0080, 0.7257, 0.0216, 0.1016]],\n",
       "       grad_fn=<SelectBackward0>)"
      ]
     },
     "execution_count": 13,
     "metadata": {},
     "output_type": "execute_result"
    }
   ],
   "source": [
    "wei[0]"
   ]
  },
  {
   "cell_type": "markdown",
   "metadata": {},
   "source": [
    "- attention is a communication mechanism, it gives a weighted sum of all nodes, with data-dependent weights\n",
    "- no notion of space, it acts over a set of vectors. That's why we need positional embeddings. (differently than convolutions)\n",
    "- each batch is independent\n",
    "- in the encoder all tokens can communicate, in the decoder – only previous tokens. It also depends of the problem, e.g. for sentiment analysis we can use all and for translation usually only previous tokens.\n",
    "- self-attention means keys, queries and values are from the same source,\n",
    "in cross-attention queries are made from x and keys and values are from other source (e.g. encoder module).\n",
    "- attention matrix can be scaled by 1/sqrt(d_k) d_k – head size. It keeps the variance of weights at 1. It's important for softmax."
   ]
  },
  {
   "cell_type": "code",
   "execution_count": 19,
   "metadata": {},
   "outputs": [
    {
     "name": "stdout",
     "output_type": "stream",
     "text": [
      "tensor([0.1925, 0.1426, 0.2351, 0.1426, 0.2872])\n",
      "tensor([0.0326, 0.0030, 0.1615, 0.0030, 0.8000])\n"
     ]
    },
    {
     "data": {
      "text/plain": [
       "(tensor(0.9213), tensor(0.9248), tensor(14.2450))"
      ]
     },
     "execution_count": 19,
     "metadata": {},
     "output_type": "execute_result"
    }
   ],
   "source": [
    "# scaled attention\n",
    "k = torch.randn(B, T, head_size)\n",
    "q = torch.randn(B, T, head_size)\n",
    "wei = q @ k.transpose(-2, -1) #* head_size**-0.5\n",
    "\n",
    "print(torch.softmax(torch.tensor([0.1, -0.2, 0.3, -0.2, 0.5]), dim=-1))\n",
    "print(torch.softmax(torch.tensor([0.1, -0.2, 0.3, -0.2, 0.5])*8, dim=-1)) # sharpenning to the highest value\n",
    "k.var(), q.var(), wei.var()"
   ]
  },
  {
   "cell_type": "code",
   "execution_count": null,
   "metadata": {},
   "outputs": [],
   "source": []
  }
 ],
 "metadata": {
  "kernelspec": {
   "display_name": "ml",
   "language": "python",
   "name": "python3"
  },
  "language_info": {
   "codemirror_mode": {
    "name": "ipython",
    "version": 3
   },
   "file_extension": ".py",
   "mimetype": "text/x-python",
   "name": "python",
   "nbconvert_exporter": "python",
   "pygments_lexer": "ipython3",
   "version": "3.10.9"
  }
 },
 "nbformat": 4,
 "nbformat_minor": 2
}
