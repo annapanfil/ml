{
 "cells": [
  {
   "cell_type": "code",
   "execution_count": 73,
   "metadata": {},
   "outputs": [
    {
     "name": "stdout",
     "output_type": "stream",
     "text": [
      "--2024-02-26 21:46:13--  https://raw.githubusercontent.com/karpathy/char-rnn/master/data/tinyshakespeare/input.txt\n",
      "Translacja raw.githubusercontent.com (raw.githubusercontent.com)... 185.199.111.133, 185.199.109.133, 185.199.110.133, ...\n",
      "Łączenie się z raw.githubusercontent.com (raw.githubusercontent.com)|185.199.111.133|:443... połączono.\n"
     ]
    },
    {
     "name": "stdout",
     "output_type": "stream",
     "text": [
      "Żądanie HTTP wysłano, oczekiwanie na odpowiedź... 200 OK\n",
      "Długość: 1115394 (1,1M) [text/plain]\n",
      "Zapis do: ‘input.txt.2’\n",
      "\n",
      "input.txt.2         100%[===================>]   1,06M  2,45MB/s    w 0,4s     \n",
      "\n",
      "2024-02-26 21:46:14 (2,45 MB/s) - zapisano ‘input.txt.2’ [1115394/1115394]\n",
      "\n"
     ]
    }
   ],
   "source": [
    "!wget https://raw.githubusercontent.com/karpathy/char-rnn/master/data/tinyshakespeare/input.txt"
   ]
  },
  {
   "cell_type": "code",
   "execution_count": 74,
   "metadata": {},
   "outputs": [
    {
     "name": "stdout",
     "output_type": "stream",
     "text": [
      "1115394 chars\n",
      "-----\n",
      "First Citizen:\n",
      "Before we proceed any further, hear me speak.\n",
      "\n",
      "All:\n",
      "Speak, speak.\n",
      "\n",
      "First Citizen:\n",
      "You\n"
     ]
    }
   ],
   "source": [
    "with open('input.txt', 'r', encoding='utf-8') as f:\n",
    "    text = f.read()\n",
    "\n",
    "print(len(text), \"chars\\n-----\")\n",
    "print(text[:100])"
   ]
  },
  {
   "cell_type": "code",
   "execution_count": 75,
   "metadata": {},
   "outputs": [
    {
     "name": "stdout",
     "output_type": "stream",
     "text": [
      "\n",
      " !$&',-.3:;?ABCDEFGHIJKLMNOPQRSTUVWXYZabcdefghijklmnopqrstuvwxyz 65\n"
     ]
    }
   ],
   "source": [
    "chars = sorted(list(set(text)))\n",
    "vocab_size = len(chars)\n",
    "print(\"\".join(chars), vocab_size)"
   ]
  },
  {
   "cell_type": "code",
   "execution_count": 76,
   "metadata": {},
   "outputs": [
    {
     "name": "stdout",
     "output_type": "stream",
     "text": [
      "[20, 43, 50, 50, 53, 1, 58, 46, 43, 56, 43]\n",
      "Hello there\n"
     ]
    }
   ],
   "source": [
    "stoi = {ch: i for i, ch in enumerate(chars)}\n",
    "itos = {i: ch for ch, i in stoi.items()}\n",
    "\n",
    "encode = lambda word: [stoi[c] for c in word] \n",
    "decode = lambda word: \"\".join([itos[c] for c in word])\n",
    "\n",
    "print(encode(\"Hello there\"))\n",
    "print(decode(encode(\"Hello there\")))"
   ]
  },
  {
   "cell_type": "markdown",
   "metadata": {},
   "source": [
    "Known tokenizers: sentence piece (google), ticktoken (BPE, openAI)"
   ]
  },
  {
   "cell_type": "code",
   "execution_count": 77,
   "metadata": {},
   "outputs": [
    {
     "name": "stdout",
     "output_type": "stream",
     "text": [
      "torch.Size([1115394]) torch.int64\n",
      "tensor([18, 47, 56, 57, 58,  1, 15, 47, 58, 47, 64, 43, 52, 10,  0, 14, 43, 44,\n",
      "        53, 56, 43,  1, 61, 43,  1, 54, 56, 53, 41, 43, 43, 42,  1, 39, 52, 63,\n",
      "         1, 44, 59, 56, 58, 46, 43, 56,  6,  1, 46, 43, 39, 56,  1, 51, 43,  1,\n",
      "        57, 54, 43, 39, 49,  8,  0,  0, 13, 50, 50, 10,  0, 31, 54, 43, 39, 49,\n",
      "         6,  1, 57, 54, 43, 39, 49,  8,  0,  0, 18, 47, 56, 57, 58,  1, 15, 47,\n",
      "        58, 47, 64, 43, 52, 10,  0, 37, 53, 59])\n"
     ]
    }
   ],
   "source": [
    "import torch\n",
    "data = torch.tensor(encode(text), dtype=torch.long)\n",
    "print(data.shape, data.dtype)\n",
    "print(data[:100])"
   ]
  },
  {
   "cell_type": "code",
   "execution_count": 78,
   "metadata": {},
   "outputs": [],
   "source": [
    "n = int(0.9 * len(data))\n",
    "train_data = data[:n]\n",
    "val_data = data[n:]"
   ]
  },
  {
   "cell_type": "code",
   "execution_count": 82,
   "metadata": {},
   "outputs": [
    {
     "name": "stdout",
     "output_type": "stream",
     "text": [
      "inputs:\n",
      "torch.Size([4, 8])\n",
      "tensor([[24, 43, 58,  5, 57,  1, 46, 43],\n",
      "        [44, 53, 56,  1, 58, 46, 39, 58],\n",
      "        [52, 58,  1, 58, 46, 39, 58,  1],\n",
      "        [25, 17, 27, 10,  0, 21,  1, 54]])\n",
      "targets:\n",
      "torch.Size([4, 8])\n",
      "tensor([[43, 58,  5, 57,  1, 46, 43, 39],\n",
      "        [53, 56,  1, 58, 46, 39, 58,  1],\n",
      "        [58,  1, 58, 46, 39, 58,  1, 46],\n",
      "        [17, 27, 10,  0, 21,  1, 54, 39]])\n",
      "----\n",
      "tensor([24]) → 43\n",
      "tensor([24, 43]) → 58\n",
      "tensor([24, 43, 58]) → 5\n",
      "tensor([24, 43, 58,  5]) → 57\n",
      "tensor([24, 43, 58,  5, 57]) → 1\n",
      "tensor([24, 43, 58,  5, 57,  1]) → 46\n",
      "tensor([24, 43, 58,  5, 57,  1, 46]) → 43\n",
      "tensor([24, 43, 58,  5, 57,  1, 46, 43]) → 39\n",
      "tensor([44]) → 53\n",
      "tensor([44, 53]) → 56\n",
      "tensor([44, 53, 56]) → 1\n",
      "tensor([44, 53, 56,  1]) → 58\n",
      "tensor([44, 53, 56,  1, 58]) → 46\n",
      "tensor([44, 53, 56,  1, 58, 46]) → 39\n",
      "tensor([44, 53, 56,  1, 58, 46, 39]) → 58\n",
      "tensor([44, 53, 56,  1, 58, 46, 39, 58]) → 1\n",
      "tensor([52]) → 58\n",
      "tensor([52, 58]) → 1\n",
      "tensor([52, 58,  1]) → 58\n",
      "tensor([52, 58,  1, 58]) → 46\n",
      "tensor([52, 58,  1, 58, 46]) → 39\n",
      "tensor([52, 58,  1, 58, 46, 39]) → 58\n",
      "tensor([52, 58,  1, 58, 46, 39, 58]) → 1\n",
      "tensor([52, 58,  1, 58, 46, 39, 58,  1]) → 46\n",
      "tensor([25]) → 17\n",
      "tensor([25, 17]) → 27\n",
      "tensor([25, 17, 27]) → 10\n",
      "tensor([25, 17, 27, 10]) → 0\n",
      "tensor([25, 17, 27, 10,  0]) → 21\n",
      "tensor([25, 17, 27, 10,  0, 21]) → 1\n",
      "tensor([25, 17, 27, 10,  0, 21,  1]) → 54\n",
      "tensor([25, 17, 27, 10,  0, 21,  1, 54]) → 39\n"
     ]
    }
   ],
   "source": [
    "# batch dimention\n",
    "torch.manual_seed(1337)\n",
    "batch_size = 4 # how many independent sequences will we process in paralell\n",
    "block_size = 8 # max context_length\n",
    "def get_batch(split):\n",
    "    data = train_data if split==\"train\" else val_data\n",
    "    ix = torch.randint(len(data) - block_size, (batch_size,)) # beginning of the context\n",
    "    x = torch.stack([data[i: i+block_size] for i in ix])\n",
    "    y = torch.stack([data[i+1: i+block_size+1] for i in ix])\n",
    "    return x, y\n",
    "\n",
    "xb, yb = get_batch('train')\n",
    "print(\"inputs:\", xb.shape, xb, sep=\"\\n\")\n",
    "print(\"targets:\", yb.shape, yb, \"----\", sep=\"\\n\")\n",
    "# each row is a training example\n",
    "\n",
    "\n",
    "# time dimention\n",
    "for b in range(batch_size):\n",
    "    for t in range(block_size):\n",
    "        context = xb[b, :t+1]\n",
    "        target = yb[b, t]\n",
    "        print(context, \"→\", target.item())"
   ]
  },
  {
   "cell_type": "markdown",
   "metadata": {},
   "source": [
    "It's multiple examples at once. We want to predict 18 → 47; 18, 47 → 56; ...\n",
    "\n",
    "We'd like the transformers to predict for little and big contexts, up to blocksize."
   ]
  },
  {
   "cell_type": "code",
   "execution_count": 96,
   "metadata": {},
   "outputs": [
    {
     "name": "stdout",
     "output_type": "stream",
     "text": [
      "torch.Size([256, 65])\n",
      "4.759584426879883 4.174387269895637\n",
      "\n",
      "Sr?qP-QWktXoL&jLDJgOLVz'RIoDqHdhsV&vLLxatjscMpwLERSPyao.qfzs$Ys$zF-w,;eEkzxjgCKFChs!iWW.ObzDnxA Ms$3\n"
     ]
    }
   ],
   "source": [
    "import torch.nn as nn\n",
    "from torch.nn import functional as F\n",
    "from math import log\n",
    "torch.manual_seed(1337)\n",
    "\n",
    "# baseline – context of 1\n",
    "class BigramLanguageModel(nn.Module):\n",
    "    def __init__(self, vocab_size):\n",
    "        super().__init__()\n",
    "        # each token directly reads off the logits for the next token from a lookup table\n",
    "        self.token_embedding_table = nn.Embedding(vocab_size, vocab_size)\n",
    "\n",
    "    def forward(self, idx, targets=None):\n",
    "        # idx and targets are both (B, T) tensor of integers\n",
    "        logits = self.token_embedding_table(idx) #(B, T, C) – (batch, time, channel)\n",
    "        if targets is None:\n",
    "            loss = None\n",
    "        else:\n",
    "            B, T, C = logits.shape\n",
    "            logits = logits.view(B*T, C) # pytorch expects C in 2nd dimention\n",
    "            targets = targets.view(B*T) # or -1\n",
    "            loss = F.cross_entropy(logits, targets) \n",
    "        return logits, loss\n",
    "\n",
    "    def generate(self, idx, max_new_tokens):\n",
    "        for _ in range(max_new_tokens):\n",
    "            logits, _ = self(idx) # feed all history to the – not really needed here\n",
    "            # focus only on the last time step (last elem in time dimention)\n",
    "            logits = logits[:, -1, :] # (B, C)\n",
    "            probs = F.softmax(logits, dim=-1) # (B, C)\n",
    "            idx_next = torch.multinomial(probs, num_samples=1) # (B, 1)\n",
    "            # append \n",
    "            idx = torch.cat((idx, idx_next), dim=1) # (B, T+1)\n",
    "        return idx\n",
    "\n",
    "    \n",
    "m = BigramLanguageModel(vocab_size)\n",
    "logits, loss = m(xb, yb)\n",
    "print(logits.shape)\n",
    "print(loss.item(), -log(1/65))\n",
    "\n",
    "idx = torch.zeros((1,1), dtype=torch.long) # start with a single newline token\n",
    "print(decode(m.generate(idx, max_new_tokens=100)[0].tolist())) # 0th batch, because it's the only one"
   ]
  },
  {
   "cell_type": "code",
   "execution_count": 90,
   "metadata": {},
   "outputs": [
    {
     "name": "stdout",
     "output_type": "stream",
     "text": [
      "2.26753830909729\n"
     ]
    }
   ],
   "source": [
    "# train\n",
    "batch_size = 32\n",
    "optimizer = torch.optim.AdamW(m.parameters(), lr=1e-3)\n",
    "\n",
    "for i in range(10000):\n",
    "    xb, yb = get_batch(\"test\")\n",
    "    # forward\n",
    "    logits, loss = m(xb, yb)\n",
    "    # backward\n",
    "    optimizer.zero_grad(set_to_none=True)\n",
    "    loss.backward()\n",
    "    # update\n",
    "    optimizer.step()\n",
    "\n",
    "print(loss.item())\n"
   ]
  },
  {
   "cell_type": "code",
   "execution_count": 95,
   "metadata": {},
   "outputs": [
    {
     "name": "stdout",
     "output_type": "stream",
     "text": [
      "\n",
      "ONISPENTheagse y hofiniral at, toffthuchot\n",
      "\n",
      "IOSust s.\n",
      "\n",
      "ysed;\n",
      "LOSENIEBe!\n",
      "ANAPEn\n",
      "SEN:\n",
      "I'r, sthou se o-\n"
     ]
    }
   ],
   "source": [
    "print(decode(m.generate(torch.zeros((1,1), dtype=torch.long), max_new_tokens=100)[0].tolist())) # 0th batch, because it's the only one"
   ]
  },
  {
   "cell_type": "code",
   "execution_count": null,
   "metadata": {},
   "outputs": [],
   "source": []
  }
 ],
 "metadata": {
  "kernelspec": {
   "display_name": "ml",
   "language": "python",
   "name": "python3"
  },
  "language_info": {
   "codemirror_mode": {
    "name": "ipython",
    "version": 3
   },
   "file_extension": ".py",
   "mimetype": "text/x-python",
   "name": "python",
   "nbconvert_exporter": "python",
   "pygments_lexer": "ipython3",
   "version": "3.10.9"
  }
 },
 "nbformat": 4,
 "nbformat_minor": 2
}
